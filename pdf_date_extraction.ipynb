{
 "cells": [
  {
   "cell_type": "code",
   "execution_count": 1,
   "id": "10aa13c3-a89a-4846-9f0d-6fc980f5dc86",
   "metadata": {},
   "outputs": [],
   "source": [
    "from pdfminer.high_level import extract_text\n",
    "import re"
   ]
  },
  {
   "cell_type": "code",
   "execution_count": 50,
   "id": "96a9665e-191f-48cd-8c07-a1e9ea0cb307",
   "metadata": {},
   "outputs": [
    {
     "name": "stdout",
     "output_type": "stream",
     "text": [
      "STORE ELEVATION - WALNUT STREET 2) Sets of ﬂat cut out aluminum letters: - non-illuminated - ¼\" thick aluminum, drilled & tapped for studs - ﬁnish: anodized dark bronze DEPARTMENT OF LICENSES & INSPECTIONS APPROVED FOR ZONING ONLY 06/14/23 WHEN YOUR PLANS CONTAIN ANY OMISSION, ERROR OR DEVIATION FROM THESE APPROVED PLANS IT WILL REQUIRE THE APPROVAL OF THE DEPARTMENT OF LICENSES & INSPECTIONS. Applied by L&I: Andrew DiDonato LOCATION: 1608 Walnut St. Philadelphia, PA 191 SCALE: 3/16\" = 1' - 0\" PG: 1 of 3 DATE: 3/17/23 4/20/23 215-827-6500 215-827-6501 fax b a r r y j @ f o r m a n s i g n . c o m FILE: alo_yoga_Philadelphia_PA_Walnut_St_signage_4-20-23 DRAWN BY ebf 10447 Drummond Rd, Philadelphia, PA 19154 STORE ELEVATION - WALNUT STREET - DETAIL VIEW 2) Sets of ﬂat cut out aluminum letters: - non-illuminated - ¼\" thick aluminum, drilled & tapped for studs - ﬁnish: anodized dark bronze Flat Cut Out Letters Scale: 1 ½\" = 1' - 0\" DEPARTMENT OF LICENSES & INSPECTIONS APPROVED FOR ZONING ONLY 06/14/23 ELEVATION - DETAIL Scale: 3/8\" = 1' - 0\" WHEN YOUR PLANS CONTAIN ANY OMISSION, ERROR OR DEVIATION FROM THESE APPROVED PLANS IT WILL REQUIRE THE APPROVAL OF THE DEPARTMENT OF LICENSES & INSPECTIONS. Applied by L&I: Andrew DiDonato LOCATION: 1608 Walnut St. Philadelphia, PA 191 SCALE: as noted PG: 2 of 3 DATE: 3/17/23 4/20/23 215-827-6500 215-827-6501 fax b a r r y j @ f o r m a n s i g n . c o m FILE: alo_yoga_Philadelphia_PA_Walnut_St_signage_4-20-23 DRAWN BY ebf 10447 Drummond Rd, Philadelphia, PA 19154 STORE FRONT LETTERS - DETAIL VIEWS - (2) SETS 2) Sets of ﬂat cut out aluminum letters: - non-illuminated - ¼\" thick aluminum, drilled & tapped for studs - ﬁnish: anodized dark bronze DEPARTMENT OF LICENSES & INSPECTIONS APPROVED FOR ZONING ONLY 06/14/23 WHEN YOUR PLANS CONTAIN ANY OMISSION, ERROR OR DEVIATION FROM THESE APPROVED PLANS IT WILL REQUIRE THE APPROVAL OF THE DEPARTMENT OF LICENSES & INSPECTIONS. Applied by L&I: Andrew DiDonato TYPICAL INSTALLATION DETAIL- ALUMINUM PLATE LETTER FINISH: anodized dark bronze nts 1) ¼\" thick aluminum letter drilled & tapped for studs, attached to wall w/ silicone adhesive on back & in holes drilled into masonry wall for studs on letter 2) 2\" S/S 10/32 studs - (2) per letter 3) Sandstone Veneer Wall 1 2 2 3 NOTE: letters to be shimmed to create a 1/8\" shadow line around the perimeter NOTE: letters to be installed plumb & level with the face surfaces in the same plane ¼\" nts LOCATION: 1608 Walnut St. Philadelphia, PA 191 SCALE: as noted PG: 3 of 3 DATE: 3/17/23 4/20/23 215-827-6500 215-827-6501 fax b a r r y j @ f o r m a n s i g n . c o m FILE: alo_yoga_Philadelphia_PA_Walnut_St_signage_4-20-23 DRAWN BY ebf 10447 Drummond Rd, Philadelphia, PA 19154 . t c e t i h c r A e h t m o r f n o i t a z i r o h t u a n e t t i r w r o i r p t u o h t i w , d e r a p e r p n e e b e v a h y e h t i h c h w r o f j i t c e o r p c ﬁ c e p s e h t n a h t r e h t o , k r o w y n a h t i w n o i t c e n n o c n i d e s u r o d e c u d o r p e r i , d e p o c e b y a m s n o i t a c ﬁ c e p s r o s g n w a r d e s e h t i i f o t r a p o N . d e v r e s e r s t h g i r l l A BUILDING LOT FRONTAGE : 86.00' STORE FRONTAGE : 58'-4\" WALNUT STREET SIDEWALK ALO STORE BLDG. LOBBY NIC 1608 WALNUT ST. 2'-11\" EQ EQ 2'-0\" SIGN 1 WALL MOUNTED LOGO 2.6 SQ FT (3/6\" THICK OIL RUBBED BRONZE PLATE) \" 4 - ' 1 \" 6 - ' 5 BUILDING LOBBY ENTRY EXISTING SHOW WINDOW 2 STOREFRONT ELEVATION SCALE: 1/4\" = 1'-0\" SIGN 2 WALL MOUNTED LOGO 2.6 SQ FT (3/6\" THICK OIL RUBBED BRONZE PLATE) ' . 1 9 5 4 1 : T O L EXISTING STORE ENTRY NO SIGNS PROPOSED ON WINDOWS OR DOORS EXISTING SHOW WINDOW EXISTING STOREFRONT AND FACADE TO REMAIN THROUGHOUT - INCLUDING ENTRY DOORS, SHOW WINDOWS STONE FACADE, ETC 58'-4\" FRONTAGE OF GROUND FLOOR MERCANTILE TENANT (ALO) 86'-0\" LOT FRONTAGE EXISTING SECONDARY STORE ENTRY (NOT USED) EXISTING STONE FACADE FINISHES TYP EXISTING STONE BASE ADJACENT BUILDING ADJACENT TENANT NIC I R O D R R O C SIDEWALK EXIT TO STREET BUILDING LOT FRONTAGE : 86.00' 1 PLOT PLAN 1/8 SCALE: 3/32\" = 1'-0\" Proposed signage includes two wall mounted logos SIGNAGE CALCULATION 1 608 WALNUT ST - Zoning Base District (Code: CMX-5) PROPOSED SIGNAGE IS \"ACCESSSORY SIGNAGE\" MAX AREA 2 SQ FT/LINEAR FRONTAGE - 1 00 SQFT / SIGN FRONTAGE = 58' - 4\" 58.3' / 2' = 29.1 5 SQ FT ALLOWABLE AREA OF WALL SIGNAGE PROPOSED AREA = (2) SIGNS AT 2.6 SQ FT - TOTAL AREA = 5.2 SQFT 5.2 SQ FT < 29.1 5 SQ FT - COMPLIES SIGN IS NOT ILLUMINATED SIGN 1 - 2.6 SQ FT SIGN 2 - 2.6 SQ FT STOREFRONT RENDERING 3 DEPARTMENT OF LICENSES & INSPECTIONS APPROVED FOR ZONING ONLY 06/14/23 WHEN YOUR PLANS CONTAIN ANY OMISSION, ERROR OR DEVIATION FROM THESE APPROVED PLANS IT WILL REQUIRE THE APPROVAL OF THE DEPARTMENT OF LICENSES & INSPECTIONS. Applied by L&I: Andrew DiDonato 4\" X 8\" AREA FOR CITY STAMP All rights reserved. No part of these drawings or speciﬁcations may be copied, reproduced or used in connection with any work, other than the speciﬁc project for which they have been prepared, without prior written authorization from the Architect. 03-17-23 PROPOSED WALL SIGN LOCATIONS ON PIERS FLANKING STORE ENTRY SIGN 1: 1'-4\" X 2'-0\" = 2.6 SQ FT SIGN 2: 1'-4\" X 2'-0\" = 2.6 SQ FT 1608 WALNUT STREET CMX-5 ZONING NO CHANGE TO EXISTING BUILDING AREA OR HEIGHT NO CHANGE IN USE PROPOSED EXTERIOR WORK IS LIMITED TO INSTALLATION OF TWO WALL MOUNTED SIGNS INTERIOR WORK IS A TENANT IMPROVEMENT AT FIRST FLOOR FOR A NEW RETAIL TENANT - NO CHANGE TO MERCANTILE USE ' . 1 9 5 4 1 : T O L ADJACENT BUILDING N 03.15.23 ISSUE FOR PERMIT 03.16.23 ISSUE FOR ZONING NO. DATE ISSUE 1 608 Walnut Street Philadelphia, PA 1 91 03 LMA PROJECT NO. 22101 ZONING PLAN AND OVERVIEW Z-1 PERMIT FEE $464.00 DATE ISSUED 6/15/2023 ZBA CALENDAR ZBA DECISION DATE ZONING DISTRICTS CMX5 Zoning Permit Permit Number ZP-2023-004579 LOCATION OF WORK 1608-14 WALNUT ST, Philadelphia, PA 19103-5403 Alo Yoga PERMIT HOLDER OWNER CONTACT 1 OWNER CONTACT 2 TYPE OF WORK Signs (Accessory / Non-Accessory) APPROVED DEVELOPMENT For the erection of two flat wall signs. Size and location per plans. APPROVED USE(S) Retail Sales - Wearing Apparel and Accessories THIS PERMIT IS SUBJECT TO THE FOLLOWING PROVISO(S) AS ESTABLISHED BY THE ZONING BOARD OF ADJUSTMENT (ZBA) CONDITIONS AND LIMITATIONS: • Permits, including Zoning Permits not involving development, shall expire if the authorized work or Use is not commenced within, or if work is suspended or abandoned for period of, six (6) months from the date of issuance with the following exceptions: 30-days or 10-days for Permits related to Unsafe or Imminently Dangerous properties respectively. 3-years from issuance or date of decision by ZBA for Zoning Permits involving development. 60-days for Plumbing, Electrical or Fire Suppression Rough-In Approvals. Any Permit issued for construction or demolition is valid for no more than five (5) years. · · · · • All provisions of the Philadelphia Code must be complied with, whether specified herein or not. This permit does NOT constitute approval of any Violation of such Code. • The issuance of this CO/permit does not affirm that the subject property is federally compliant with the Americans with Disabilities Act. Owner remains responsible for ensuring property complies with all local, state and federal requirements. Page 1 of 2 Zoning Permit Permit Number ZP-2023-004579 ADDITIONAL LOCATION(S) See front side for primary parcel associated with this permit PARCEL 1608-14 WALNUT ST, Philadelphia, PA 19103-5403 ADDITIONAL USE DETAILS See front side for specific use(s) associated with this permit This permit is subject to the following specific conditions. CONDITIONS This Zoning Permit (ZP) shall expire if construction or operation pursuant to the permit or approval has not begun within three years after the date the permit or approval was granted. Changes of use shall be valid for a period of six months unless an application for a Certificate of Occupancy is submitted for that use within such period. See § 14-303 of the Philadelphia Zoning Code for more information. Tax Exemption(Abatement): Information and applications for Real Estate Tax Abatement for new construction and improvements available from the Office of Property Assessment www.phila.gov/opa, 215-686-4334, 601 Walnut St., 300W, Phila, PA 19106. Applications for new construction and commercial improvements due within 60 days of permit issuance. Residential rehab and builder/developer applications due by Dec 31 of year of permit issuance. Page 2 of 2 \n"
     ]
    }
   ],
   "source": [
    "text = re.sub(r\"\\s+\", \" \", extract_text('pdfs/ZP-2023-004579.pdf'))\n",
    "print(text)"
   ]
  },
  {
   "cell_type": "code",
   "execution_count": 38,
   "id": "9be46e11-f190-46fb-80b3-3a799692727d",
   "metadata": {},
   "outputs": [],
   "source": [
    "# https://blog.ukena.de/posts/2021/12/extract-date-from-pdf/\n",
    "# https://www.freecodecamp.org/news/regex-for-date-formats-what-is-the-regular-expression-for-matching-dates/\n",
    "# https://regex101.com/r/Jx6EYV/1\n",
    "date_patterns = {\n",
    "    # \"slashed_with_two_or_four_digit_year\": re.compile(\n",
    "    #     r'(\\d{1,2}\\/\\d{2}\\/\\d{2,4})'\n",
    "    # ),\n",
    "    \"ISO-8601 date part\": re.compile(\n",
    "        r'(\\d{4}-\\d{2})-\\d{2}'),\n",
    "    \"english_short_months\": re.compile(\n",
    "        r'((?i:Jan|Feb|Mar|Apr|May|Jun|Jul|Aug|Sep|Oct|Nov|Dec)\\w{0,9}\\.? \\d{1,2}\\.? \\d{2,4})'),\n",
    "    \"month_day_year_digits\": re.compile(r'(0?[1-9]|1[0-2])/(0?[1-9]|[12][0-9]|3[01])/([0-9]{2})'),\n",
    "\n",
    "}"
   ]
  },
  {
   "cell_type": "code",
   "execution_count": 74,
   "id": "5a7fe672-c37b-4b55-9923-dc71da03e02f",
   "metadata": {},
   "outputs": [],
   "source": [
    "import dateparser\n",
    "def extract_all_dates_in_order_of_occurrence(text: str) -> dict:\n",
    "    dates = dict()\n",
    "    for format_name, date_format_regex in date_patterns.items():\n",
    "        matches = re.finditer(date_format_regex, text)\n",
    "        for match in matches:\n",
    "            # match.start() returns the index of start of the substring match\n",
    "            # slice the original text at that index, make an array of words, \n",
    "            # reverse the array and return the first two words and join them\n",
    "            # with an underscore\n",
    "            preceding_text = \"_\".join(text[:match.start()].split()[::-1][0:2])\n",
    "            if match:\n",
    "                dt: date = dateparser.parse(match.group())\n",
    "                if dt:\n",
    "                    dates[preceding_text] = dt\n",
    "                else:\n",
    "                    pass  # found a match that dateparser could not parse\n",
    "    return dates"
   ]
  },
  {
   "cell_type": "code",
   "execution_count": 73,
   "id": "825c240e-52f2-4f27-b9fd-227ee5caed11",
   "metadata": {},
   "outputs": [
    {
     "name": "stdout",
     "output_type": "stream",
     "text": [
      "{'ONLY_ZONING': datetime.datetime(2023, 6, 14, 0, 0), 'DATE:_3': datetime.datetime(2023, 3, 17, 0, 0), '3/17/23_DATE:': datetime.datetime(2023, 4, 20, 0, 0), 'ISSUED_DATE': datetime.datetime(2020, 6, 15, 0, 0)}\n"
     ]
    }
   ],
   "source": [
    "pdf_dates = extract_all_dates_in_order_of_occurrence(text)\n",
    "print(pdf_dates)"
   ]
  },
  {
   "cell_type": "code",
   "execution_count": null,
   "id": "50b9cdc8-ae54-48da-bee0-9a287d3049ea",
   "metadata": {},
   "outputs": [],
   "source": []
  }
 ],
 "metadata": {
  "kernelspec": {
   "display_name": "Python [conda env:pdfextract] *",
   "language": "python",
   "name": "conda-env-pdfextract-py"
  },
  "language_info": {
   "codemirror_mode": {
    "name": "ipython",
    "version": 3
   },
   "file_extension": ".py",
   "mimetype": "text/x-python",
   "name": "python",
   "nbconvert_exporter": "python",
   "pygments_lexer": "ipython3",
   "version": "3.9.21"
  }
 },
 "nbformat": 4,
 "nbformat_minor": 5
}
